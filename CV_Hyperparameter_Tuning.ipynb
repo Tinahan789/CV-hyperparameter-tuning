{
 "cells": [
  {
   "cell_type": "code",
   "execution_count": 1,
   "metadata": {},
   "outputs": [],
   "source": [
    "#import packages\n",
    "import pandas as pd\n",
    "import numpy as np\n",
    "from sklearn.model_selection import KFold\n",
    "from sklearn.linear_model import LogisticRegression\n",
    "from sklearn.naive_bayes import BernoulliNB\n",
    "from sklearn.ensemble import RandomForestClassifier\n",
    "from sklearn.ensemble import GradientBoostingClassifier\n",
    "import seaborn as sns\n",
    "import warnings\n",
    "warnings.filterwarnings(\"ignore\")"
   ]
  },
  {
   "cell_type": "code",
   "execution_count": 2,
   "metadata": {},
   "outputs": [
    {
     "data": {
      "text/html": [
       "<div>\n",
       "<style scoped>\n",
       "    .dataframe tbody tr th:only-of-type {\n",
       "        vertical-align: middle;\n",
       "    }\n",
       "\n",
       "    .dataframe tbody tr th {\n",
       "        vertical-align: top;\n",
       "    }\n",
       "\n",
       "    .dataframe thead th {\n",
       "        text-align: right;\n",
       "    }\n",
       "</style>\n",
       "<table border=\"1\" class=\"dataframe\">\n",
       "  <thead>\n",
       "    <tr style=\"text-align: right;\">\n",
       "      <th></th>\n",
       "      <th>0.0</th>\n",
       "      <th>1.0</th>\n",
       "      <th>1.0.1</th>\n",
       "      <th>0.0.1</th>\n",
       "      <th>1.0.2</th>\n",
       "      <th>1.0.3</th>\n",
       "      <th>1.0.4</th>\n",
       "      <th>1.0.5</th>\n",
       "      <th>1.0.6</th>\n",
       "      <th>1.0.7</th>\n",
       "      <th>...</th>\n",
       "      <th>0.0.948</th>\n",
       "      <th>0.0.949</th>\n",
       "      <th>0.0.950</th>\n",
       "      <th>0.0.951</th>\n",
       "      <th>0.0.952</th>\n",
       "      <th>0.0.953</th>\n",
       "      <th>0.0.954</th>\n",
       "      <th>0.0.955</th>\n",
       "      <th>0.0.956</th>\n",
       "      <th>0.0.957</th>\n",
       "    </tr>\n",
       "  </thead>\n",
       "  <tbody>\n",
       "    <tr>\n",
       "      <th>0</th>\n",
       "      <td>0.0</td>\n",
       "      <td>1.0</td>\n",
       "      <td>1.0</td>\n",
       "      <td>0.0</td>\n",
       "      <td>1.0</td>\n",
       "      <td>1.0</td>\n",
       "      <td>1.0</td>\n",
       "      <td>1.0</td>\n",
       "      <td>1.0</td>\n",
       "      <td>1.0</td>\n",
       "      <td>...</td>\n",
       "      <td>1.0</td>\n",
       "      <td>0.0</td>\n",
       "      <td>0.0</td>\n",
       "      <td>0.0</td>\n",
       "      <td>0.0</td>\n",
       "      <td>0.0</td>\n",
       "      <td>0.0</td>\n",
       "      <td>0.0</td>\n",
       "      <td>0.0</td>\n",
       "      <td>0.0</td>\n",
       "    </tr>\n",
       "    <tr>\n",
       "      <th>1</th>\n",
       "      <td>0.0</td>\n",
       "      <td>1.0</td>\n",
       "      <td>1.0</td>\n",
       "      <td>0.0</td>\n",
       "      <td>1.0</td>\n",
       "      <td>1.0</td>\n",
       "      <td>1.0</td>\n",
       "      <td>1.0</td>\n",
       "      <td>1.0</td>\n",
       "      <td>1.0</td>\n",
       "      <td>...</td>\n",
       "      <td>0.0</td>\n",
       "      <td>0.0</td>\n",
       "      <td>0.0</td>\n",
       "      <td>1.0</td>\n",
       "      <td>0.0</td>\n",
       "      <td>0.0</td>\n",
       "      <td>0.0</td>\n",
       "      <td>1.0</td>\n",
       "      <td>0.0</td>\n",
       "      <td>1.0</td>\n",
       "    </tr>\n",
       "    <tr>\n",
       "      <th>2</th>\n",
       "      <td>0.0</td>\n",
       "      <td>1.0</td>\n",
       "      <td>1.0</td>\n",
       "      <td>0.0</td>\n",
       "      <td>1.0</td>\n",
       "      <td>1.0</td>\n",
       "      <td>1.0</td>\n",
       "      <td>1.0</td>\n",
       "      <td>1.0</td>\n",
       "      <td>1.0</td>\n",
       "      <td>...</td>\n",
       "      <td>0.0</td>\n",
       "      <td>0.0</td>\n",
       "      <td>0.0</td>\n",
       "      <td>0.0</td>\n",
       "      <td>0.0</td>\n",
       "      <td>0.0</td>\n",
       "      <td>0.0</td>\n",
       "      <td>0.0</td>\n",
       "      <td>0.0</td>\n",
       "      <td>0.0</td>\n",
       "    </tr>\n",
       "    <tr>\n",
       "      <th>3</th>\n",
       "      <td>0.0</td>\n",
       "      <td>1.0</td>\n",
       "      <td>1.0</td>\n",
       "      <td>0.0</td>\n",
       "      <td>1.0</td>\n",
       "      <td>1.0</td>\n",
       "      <td>1.0</td>\n",
       "      <td>0.0</td>\n",
       "      <td>1.0</td>\n",
       "      <td>1.0</td>\n",
       "      <td>...</td>\n",
       "      <td>0.0</td>\n",
       "      <td>0.0</td>\n",
       "      <td>0.0</td>\n",
       "      <td>0.0</td>\n",
       "      <td>0.0</td>\n",
       "      <td>0.0</td>\n",
       "      <td>0.0</td>\n",
       "      <td>0.0</td>\n",
       "      <td>0.0</td>\n",
       "      <td>0.0</td>\n",
       "    </tr>\n",
       "    <tr>\n",
       "      <th>4</th>\n",
       "      <td>0.0</td>\n",
       "      <td>1.0</td>\n",
       "      <td>1.0</td>\n",
       "      <td>0.0</td>\n",
       "      <td>1.0</td>\n",
       "      <td>1.0</td>\n",
       "      <td>1.0</td>\n",
       "      <td>0.0</td>\n",
       "      <td>1.0</td>\n",
       "      <td>1.0</td>\n",
       "      <td>...</td>\n",
       "      <td>0.0</td>\n",
       "      <td>0.0</td>\n",
       "      <td>0.0</td>\n",
       "      <td>0.0</td>\n",
       "      <td>0.0</td>\n",
       "      <td>0.0</td>\n",
       "      <td>0.0</td>\n",
       "      <td>0.0</td>\n",
       "      <td>0.0</td>\n",
       "      <td>0.0</td>\n",
       "    </tr>\n",
       "  </tbody>\n",
       "</table>\n",
       "<p>5 rows × 1000 columns</p>\n",
       "</div>"
      ],
      "text/plain": [
       "   0.0  1.0  1.0.1  0.0.1  1.0.2  1.0.3  1.0.4  1.0.5  1.0.6  1.0.7  ...  \\\n",
       "0  0.0  1.0    1.0    0.0    1.0    1.0    1.0    1.0    1.0    1.0  ...   \n",
       "1  0.0  1.0    1.0    0.0    1.0    1.0    1.0    1.0    1.0    1.0  ...   \n",
       "2  0.0  1.0    1.0    0.0    1.0    1.0    1.0    1.0    1.0    1.0  ...   \n",
       "3  0.0  1.0    1.0    0.0    1.0    1.0    1.0    0.0    1.0    1.0  ...   \n",
       "4  0.0  1.0    1.0    0.0    1.0    1.0    1.0    0.0    1.0    1.0  ...   \n",
       "\n",
       "   0.0.948  0.0.949  0.0.950  0.0.951  0.0.952  0.0.953  0.0.954  0.0.955  \\\n",
       "0      1.0      0.0      0.0      0.0      0.0      0.0      0.0      0.0   \n",
       "1      0.0      0.0      0.0      1.0      0.0      0.0      0.0      1.0   \n",
       "2      0.0      0.0      0.0      0.0      0.0      0.0      0.0      0.0   \n",
       "3      0.0      0.0      0.0      0.0      0.0      0.0      0.0      0.0   \n",
       "4      0.0      0.0      0.0      0.0      0.0      0.0      0.0      0.0   \n",
       "\n",
       "   0.0.956  0.0.957  \n",
       "0      0.0      0.0  \n",
       "1      0.0      1.0  \n",
       "2      0.0      0.0  \n",
       "3      0.0      0.0  \n",
       "4      0.0      0.0  \n",
       "\n",
       "[5 rows x 1000 columns]"
      ]
     },
     "execution_count": 2,
     "metadata": {},
     "output_type": "execute_result"
    }
   ],
   "source": [
    "#read in data\n",
    "Xtest=pd.read_csv(\"X_test.csv\")\n",
    "Xtrain=pd.read_csv(\"X_train.csv\")\n",
    "ytest=pd.read_csv(\"y_test.csv\")\n",
    "ytrain=pd.read_csv(\"y_train.csv\")\n",
    "Xtest.head()"
   ]
  },
  {
   "cell_type": "code",
   "execution_count": 3,
   "metadata": {},
   "outputs": [],
   "source": [
    "#change data to array\n",
    "X_train = Xtrain.values\n",
    "X_test = Xtest.values\n",
    "y_train = ytrain.values\n",
    "y_test = ytest.values"
   ]
  },
  {
   "cell_type": "code",
   "execution_count": 4,
   "metadata": {},
   "outputs": [
    {
     "data": {
      "text/plain": [
       "(24999, 1000)"
      ]
     },
     "execution_count": 4,
     "metadata": {},
     "output_type": "execute_result"
    }
   ],
   "source": [
    "X_train.shape"
   ]
  },
  {
   "cell_type": "code",
   "execution_count": 5,
   "metadata": {},
   "outputs": [
    {
     "data": {
      "text/plain": [
       "(24999, 1000)"
      ]
     },
     "execution_count": 5,
     "metadata": {},
     "output_type": "execute_result"
    }
   ],
   "source": [
    "X_test.shape"
   ]
  },
  {
   "cell_type": "code",
   "execution_count": 6,
   "metadata": {},
   "outputs": [
    {
     "name": "stdout",
     "output_type": "stream",
     "text": [
      "Processing Fold # 1\n",
      "  - Train partition shape:  (18749, 1000)\n",
      "  - Test partition shape:  (6250, 1000)\n",
      "  - Training score =  0.8839404768254306\n",
      "  - Testing score =  0.85552\n",
      "Processing Fold # 2\n",
      "  - Train partition shape:  (18749, 1000)\n",
      "  - Test partition shape:  (6250, 1000)\n",
      "  - Training score =  0.8826070723771935\n",
      "  - Testing score =  0.85504\n",
      "Processing Fold # 3\n",
      "  - Train partition shape:  (18749, 1000)\n",
      "  - Test partition shape:  (6250, 1000)\n",
      "  - Training score =  0.8846871833164436\n",
      "  - Testing score =  0.85232\n",
      "Processing Fold # 4\n",
      "  - Train partition shape:  (18750, 1000)\n",
      "  - Test partition shape:  (6249, 1000)\n",
      "  - Training score =  0.8834133333333334\n",
      "  - Testing score =  0.8617378780604896\n"
     ]
    }
   ],
   "source": [
    "# K-fold CV for Logistic Regression\n",
    "scores = [] #store the accuracy scores\n",
    "LR = LogisticRegression() #set the model type\n",
    "cv = KFold(n_splits=4, random_state=42, shuffle=False) #set the CV parameters\n",
    "i = 1\n",
    "for train_index, test_index in cv.split(X_train):\n",
    "    X_train_fold, X_test_fold, y_train_fold, y_test_fold = X_train[train_index], X_train[test_index], y_train[train_index], y_train[test_index]\n",
    "    LR.fit(X_train_fold, y_train_fold)\n",
    "    scores.append(LR.score(X_test_fold, y_test_fold))\n",
    "    print('Processing Fold #', i)\n",
    "    print(\"  - Train partition shape: \", X_train_fold.shape)\n",
    "    print(\"  - Test partition shape: \", X_test_fold.shape)\n",
    "    print(\"  - Training score = \", LR.score(X_train_fold, y_train_fold))\n",
    "    print(\"  - Testing score = \", LR.score(X_test_fold, y_test_fold))\n",
    "    \n",
    "    i += 1"
   ]
  },
  {
   "cell_type": "code",
   "execution_count": 7,
   "metadata": {},
   "outputs": [
    {
     "data": {
      "image/png": "[encoded data removed]",
      "text/plain": [
       "<Figure size 432x288 with 1 Axes>"
      ]
     },
     "metadata": {},
     "output_type": "display_data"
    }
   ],
   "source": [
    "import matplotlib.pyplot as plt\n",
    "%matplotlib inline\n",
    "plt.style.use('ggplot')\n",
    "\n",
    "N = 4\n",
    "train_scores = (0.8839404768254306,0.8826070723771935,0.8846871833164436,0.8834133333333334)\n",
    "test_scores = (0.85552, 0.85504, 0.85232,0.8617378780604896)\n",
    "\n",
    "ind = np.arange(N) \n",
    "width = 0.35       \n",
    "plt.bar(ind, train_scores, width, label='Train')\n",
    "plt.bar(ind + width, test_scores, width,\n",
    "    label='Test')\n",
    "\n",
    "plt.xlabel('Fold')\n",
    "plt.ylabel('Scores')\n",
    "plt.title('Scores by fold')\n",
    "\n",
    "plt.xticks(ind + width / 2, ('1', '2', '3', '4'))\n",
    "plt.legend(loc=4)\n",
    "plt.show()"
   ]
  },
  {
   "cell_type": "code",
   "execution_count": 8,
   "metadata": {},
   "outputs": [
    {
     "name": "stdout",
     "output_type": "stream",
     "text": [
      "0.8561544695151224\n"
     ]
    }
   ],
   "source": [
    "# Print average testing score over all CV folds\n",
    "print(np.mean(scores))"
   ]
  },
  {
   "cell_type": "code",
   "execution_count": 9,
   "metadata": {
    "scrolled": true
   },
   "outputs": [
    {
     "data": {
      "text/plain": [
       "{'C': 1.0,\n",
       " 'class_weight': None,\n",
       " 'dual': False,\n",
       " 'fit_intercept': True,\n",
       " 'intercept_scaling': 1,\n",
       " 'l1_ratio': None,\n",
       " 'max_iter': 100,\n",
       " 'multi_class': 'auto',\n",
       " 'n_jobs': None,\n",
       " 'penalty': 'l2',\n",
       " 'random_state': None,\n",
       " 'solver': 'lbfgs',\n",
       " 'tol': 0.0001,\n",
       " 'verbose': 0,\n",
       " 'warm_start': False}"
      ]
     },
     "execution_count": 9,
     "metadata": {},
     "output_type": "execute_result"
    }
   ],
   "source": [
    "LR.get_params()"
   ]
  },
  {
   "cell_type": "code",
   "execution_count": 10,
   "metadata": {
    "scrolled": false
   },
   "outputs": [
    {
     "name": "stdout",
     "output_type": "stream",
     "text": [
      "Fitting 4 folds for each of 10 candidates, totalling 40 fits\n"
     ]
    },
    {
     "name": "stderr",
     "output_type": "stream",
     "text": [
      "[Parallel(n_jobs=-1)]: Using backend LokyBackend with 16 concurrent workers.\n",
      "[Parallel(n_jobs=-1)]: Done  18 out of  40 | elapsed:   35.1s remaining:   42.9s\n",
      "[Parallel(n_jobs=-1)]: Done  27 out of  40 | elapsed:   36.5s remaining:   17.5s\n",
      "[Parallel(n_jobs=-1)]: Done  36 out of  40 | elapsed:   44.6s remaining:    4.9s\n",
      "[Parallel(n_jobs=-1)]: Done  40 out of  40 | elapsed:   44.7s finished\n"
     ]
    },
    {
     "name": "stdout",
     "output_type": "stream",
     "text": [
      "Train Accuracy : 0.882\n",
      "Test Accuracy : 0.859\n",
      "Best Accuracy Through Grid Search : 0.855\n",
      "Best Parameters :  {'C': 7.742636826811269}\n"
     ]
    }
   ],
   "source": [
    "# Find best parameters using grid search\n",
    "from sklearn.model_selection import GridSearchCV\n",
    "C_vals = np.logspace(0,4,10)\n",
    "params = dict(C=C_vals)\n",
    "\n",
    "lrgrid = GridSearchCV(LR, param_grid=params, n_jobs=-1, cv=4, verbose=5)\n",
    "lrgrid.fit(X_train,y_train)\n",
    "\n",
    "print('Train Accuracy : %.3f'%lrgrid.best_estimator_.score(X_train, y_train))\n",
    "print('Test Accuracy : %.3f'%lrgrid.best_estimator_.score(X_test, y_test))\n",
    "print('Best Accuracy Through Grid Search : %.3f'%lrgrid.best_score_)\n",
    "print('Best Parameters : ',lrgrid.best_params_)"
   ]
  },
  {
   "cell_type": "code",
   "execution_count": 11,
   "metadata": {
    "scrolled": true
   },
   "outputs": [
    {
     "name": "stdout",
     "output_type": "stream",
     "text": [
      "[1.00000000e+00 2.78255940e+00 7.74263683e+00 2.15443469e+01\n",
      " 5.99484250e+01 1.66810054e+02 4.64158883e+02 1.29154967e+03\n",
      " 3.59381366e+03 1.00000000e+04]\n"
     ]
    }
   ],
   "source": [
    "print(C_vals)"
   ]
  },
  {
   "cell_type": "code",
   "execution_count": 12,
   "metadata": {},
   "outputs": [
    {
     "data": {
      "text/plain": [
       "array([ 0.00000000e+00,  9.90547145e-02,  2.56398877e-01,  0.00000000e+00,\n",
       "       -3.88081101e-02,  7.27577943e-02, -2.10325500e-01, -1.33001951e-01,\n",
       "       -1.56839120e-01,  1.33804157e-01, -1.84977749e-01, -2.51841489e-02,\n",
       "        1.38600444e-01,  1.11371634e-01, -1.61197932e-01, -4.47170272e-02,\n",
       "       -2.01750565e-01, -5.76801833e-04, -5.75052613e-03,  5.72126456e-02,\n",
       "       -1.26186532e-01, -4.19991341e-02,  7.36441045e-02, -3.54176922e-02,\n",
       "       -2.05623030e-01,  2.72353860e-01,  1.30075492e-03,  1.98639785e-02,\n",
       "       -6.72434679e-02, -4.84218870e-02, -2.41605101e-02, -2.39144550e-02,\n",
       "       -3.12321947e-03, -5.87207420e-02, -9.80558973e-02, -4.78148362e-02,\n",
       "       -7.15476938e-02,  6.81962148e-02, -8.21756619e-02, -1.27335321e-02,\n",
       "       -3.65920187e-02, -2.86243078e-02, -8.61850149e-02, -2.33886312e-01,\n",
       "        7.81663152e-02,  1.52079166e-01, -4.08476990e-03,  1.31391883e-01,\n",
       "       -1.21482469e-01, -4.07423475e-02, -9.66026534e-02,  6.16024430e-02,\n",
       "        1.78426678e-01,  1.05311872e-01,  5.07516954e-02,  2.52819734e-01,\n",
       "        1.19924808e-02, -3.49730881e-01,  1.42949094e-01,  6.00276987e-02,\n",
       "       -2.49714199e-01,  1.25060953e-01, -2.26678803e-01, -5.09306114e-02,\n",
       "       -1.55259508e-01,  1.39321416e-01,  3.67699210e-02,  2.44490441e-01,\n",
       "       -8.45509935e-02, -9.88889183e-03,  5.71359208e-02, -2.27245242e-01,\n",
       "        3.34273957e-02,  2.87190534e-01,  1.74872579e-02,  5.18202088e-02,\n",
       "       -2.33665735e-01, -1.74658127e-01, -7.38960980e-01,  9.23851947e-02,\n",
       "        2.30673517e-01, -3.36769183e-02,  2.95078163e-01,  6.85011759e-02,\n",
       "        6.59606956e-02,  7.34194598e-02,  1.70883877e-01,  8.07155310e-01,\n",
       "       -3.59547372e-02,  1.57983834e-02,  1.44028191e-01,  1.73992107e-01,\n",
       "       -1.92711359e-01,  5.68685546e-02,  6.88313277e-02, -1.63814095e-01,\n",
       "        9.40316751e-02, -1.49417875e-01, -1.62144859e-02, -1.83476926e-01,\n",
       "       -1.53378815e-01, -1.92861777e-01,  1.03561416e-01,  1.29141595e-02,\n",
       "        1.40487775e-01, -6.48013527e-03,  1.27218327e-01,  2.55209897e-02,\n",
       "        1.12924426e-01, -1.62774244e-02,  2.60841915e-01,  9.20085887e-02,\n",
       "       -3.38191401e-02,  1.27058793e-01, -3.37274979e-01,  1.17651335e-01,\n",
       "       -1.20835463e-01,  1.37134789e-01,  6.73073827e-01,  4.53815098e-01,\n",
       "       -1.92050276e-01,  9.57570459e-03, -1.24283693e-01, -1.95897209e-02,\n",
       "        1.86377574e-01, -1.48252895e-01,  1.47856380e-01, -5.43395275e-02,\n",
       "       -2.16285503e-01, -5.65759064e-02,  7.07077370e-02,  3.31094927e-01,\n",
       "        5.56848442e-02, -8.95808746e-02, -2.67980463e-02, -4.31309955e-03,\n",
       "        1.13159981e-01,  1.42003609e-01, -1.78014265e-01, -1.49296958e-01,\n",
       "       -8.28143858e-02, -7.91022860e-02, -2.10506588e-01, -1.21742878e-01,\n",
       "       -1.13391087e-01,  9.38998354e-02, -2.11271437e-01,  2.64182927e-02,\n",
       "        1.68580308e-01, -1.74544840e-01,  2.22030354e-01,  1.75014028e-01,\n",
       "       -9.43213035e-02,  1.23260866e-01, -1.15463118e-01, -5.19442905e-02,\n",
       "       -1.78399853e-01,  7.48276696e-02, -7.70119126e-02, -6.20399935e-02,\n",
       "       -9.91667447e-02, -1.65623647e-01,  1.26647488e-01,  6.04002744e-02,\n",
       "       -6.67585297e-01,  8.24847616e-03,  3.48796368e-01, -1.86996067e-01,\n",
       "       -5.02162632e-02,  7.06991494e-02, -3.56875552e-02, -8.53781157e-02,\n",
       "       -8.39545077e-02, -4.38996248e-03,  8.46566501e-02, -1.65239468e-01,\n",
       "        2.70899093e-01, -9.82695612e-03,  7.24636682e-02,  1.46278985e-01,\n",
       "       -1.25890979e-01, -1.26470706e-01,  2.54134885e-01,  1.84892680e-01,\n",
       "        3.09126652e-02,  2.71948382e-02, -3.00157093e-01,  7.39994377e-02,\n",
       "        9.62197805e-02, -1.41826948e-01, -1.31402836e-01, -1.54481977e-01,\n",
       "        1.22605875e-03,  1.02879413e-01,  8.43883474e-03, -2.70057802e-01,\n",
       "       -5.42760222e-02,  1.62851262e-01, -8.61497685e-02,  4.41312267e-01,\n",
       "        2.75382036e-02,  2.52092154e-01,  6.83660945e-02,  3.76015944e-01,\n",
       "       -3.70164697e-01,  2.44462464e-01,  2.86028049e-01,  6.98925307e-02,\n",
       "        1.49867632e-01,  1.95685099e-01,  2.89858277e-01,  2.52463927e-01,\n",
       "        1.19971496e-01, -7.91844040e-02,  4.63680165e-02,  1.18409799e-01,\n",
       "        9.66404233e-03, -5.92851697e-02, -1.03548852e-01,  1.50306558e-01,\n",
       "        1.35224637e-01, -2.13897790e-01, -3.65164040e-01,  2.06585406e-01,\n",
       "        1.76168224e-01, -5.60136403e-02, -1.09837975e-01,  5.25706528e-01,\n",
       "        3.33560387e-02, -4.70791165e-01, -1.61055961e-01, -1.68829008e-01,\n",
       "       -1.14265518e-01, -2.27704627e-01, -4.77769344e-01,  1.84563910e-01,\n",
       "        1.54218091e-01,  1.12033103e-01, -3.03835574e-01,  3.39123366e-01,\n",
       "       -2.09410049e-01, -2.41178815e-01,  5.90439644e-02, -9.36209245e-02,\n",
       "       -2.49483314e-01, -6.47038272e-02,  1.82006391e-01,  1.30119045e-01,\n",
       "       -9.76101603e-02, -1.92815868e+00,  7.30865818e-02,  1.63701296e-01,\n",
       "        2.14105893e-01,  6.61199250e-01,  3.96115858e-02, -2.24574332e-01,\n",
       "        1.71001896e-01,  3.14234696e-01, -1.71434744e-01,  1.83955264e-02,\n",
       "        9.31662341e-02,  1.59936480e-01,  3.89846478e-01, -4.11167282e-03,\n",
       "       -1.14293698e-01,  1.94856543e-01, -7.65655318e-02, -1.99804542e-01,\n",
       "       -9.17623370e-02, -2.83676886e-01,  2.84906160e-03,  1.92198522e-02,\n",
       "       -5.10264234e-01, -2.21900339e-02, -1.35566932e-01,  3.43301462e-01,\n",
       "        2.21478636e-01, -2.95384872e-02, -5.44922901e-01, -2.50284881e-01,\n",
       "        2.02076600e-01, -6.57835648e-02, -3.87174408e-01,  3.68121292e-01,\n",
       "       -2.77284301e-01,  6.10357575e-02, -1.93370724e-01,  3.79025232e-01,\n",
       "        4.23025049e-01, -2.07759913e-01,  3.87909826e-01, -1.01778649e-01,\n",
       "        5.44803262e-01, -4.20759521e-02, -3.74424618e-01,  1.80418222e-01,\n",
       "        6.77799390e-03, -4.80793884e-02,  1.58956453e-01,  1.59568496e-01,\n",
       "       -7.39732945e-01, -2.22196726e-01, -2.01135756e-01,  3.16871640e-01,\n",
       "        1.10209193e-01, -6.21548492e-01, -1.62397930e-01,  5.76309638e-01,\n",
       "        1.01140489e-01,  3.43643684e-02, -8.88197283e-02, -1.59923594e-02,\n",
       "        1.08685019e-01,  1.24603718e-01,  2.96950139e-04,  6.15179074e-02,\n",
       "        3.04222029e-01, -2.32334218e-01,  1.69940345e-01,  4.73494318e-02,\n",
       "       -3.27947629e-01,  1.26864874e+00, -1.40736604e-01, -1.27530822e-01,\n",
       "        1.79799092e-01, -7.17420389e-03, -3.96119107e-01,  3.15917808e-01,\n",
       "       -7.08886071e-02, -8.15923139e-02,  1.11374315e-01, -2.52651595e-01,\n",
       "       -2.52329319e-01, -2.23441978e-03, -1.62610028e-01, -6.06887703e-02,\n",
       "        4.37928800e-02,  5.45174598e-02, -1.02508012e+00, -3.80616666e-02,\n",
       "       -3.04664150e-01, -2.74087974e-02, -5.09912192e-01, -3.67489066e-02,\n",
       "        5.34421058e-02, -2.70480749e-01,  1.79126417e-01, -2.25732731e-02,\n",
       "        1.15466963e-02,  5.37673998e-02,  2.72446922e-01,  1.04336172e-01,\n",
       "        1.30463702e-01, -3.46414741e-02,  3.89924770e-01, -2.64231518e-01,\n",
       "        3.69846108e-01, -1.18950412e+00,  4.45417135e-01, -4.38030110e-02,\n",
       "       -9.98717417e-02, -8.68378706e-02, -1.55455073e-02,  1.40845217e-01,\n",
       "       -3.43125790e-01, -1.51219567e-01,  1.03006531e-01,  2.76040236e-01,\n",
       "        7.89226123e-02,  2.78126927e-01, -1.66889997e-01,  2.76444766e-01,\n",
       "       -2.43983203e-01, -1.53221791e+00, -7.78456969e-02,  5.32756816e-02,\n",
       "        1.26711113e-01,  2.41660759e-01, -2.04456845e-01, -7.77067885e-01,\n",
       "       -1.23522608e-01, -3.14269079e-03,  1.56299488e-02, -2.73601807e-01,\n",
       "       -2.60171604e-01,  1.83376687e-01,  3.43700003e-01, -3.24325048e-02,\n",
       "       -6.36146643e-02,  9.22187949e-01,  3.18267503e-01,  7.34220528e-02,\n",
       "        1.51084444e-01,  6.28822278e-02, -9.55850951e-01, -1.12397289e-01,\n",
       "        1.50340103e-02, -4.37464375e-02,  2.00600854e-01, -1.87061655e-01,\n",
       "        2.45081106e-01,  1.97651361e-01, -1.57868633e-01, -6.35304607e-02,\n",
       "        1.17707762e+00,  5.66253265e-02,  4.20285413e-01,  5.11347013e-01,\n",
       "        2.78288524e-01,  2.46695962e-01, -1.66181852e-01, -1.80375520e-01,\n",
       "       -1.72100185e-02,  2.66158444e-02, -2.15427724e-01, -3.56136000e-02,\n",
       "       -1.45017701e-01,  1.21557857e-01, -1.91248413e-01, -1.85937748e-02,\n",
       "       -3.45653323e-02, -1.12109779e-01,  9.12250763e-02,  6.17173114e-01,\n",
       "       -8.91675223e-01, -3.35599331e-02, -4.33929932e-01, -1.47191834e-01,\n",
       "        1.97044130e-01,  1.91008018e-01,  6.00297013e-02,  9.28566215e-02,\n",
       "       -1.10194464e-01, -1.00026120e+00,  1.77999466e-01,  3.06261995e-02,\n",
       "       -2.16068648e-01, -1.93670929e+00,  9.10561668e-02, -3.99131409e-01,\n",
       "        1.50925892e-01,  4.47157028e-01,  1.04596735e-01,  1.67435738e-02,\n",
       "        3.26426831e-01, -1.50051133e-02,  5.05557401e-02,  7.97722376e-01,\n",
       "        1.28173872e-02, -6.04547347e-01,  2.58370811e-01,  7.16400668e-02,\n",
       "       -1.65245104e-01,  2.40870537e-02,  2.04826105e-01, -2.75367331e-02,\n",
       "        2.46759273e-01,  3.25772313e-02, -1.20499209e-01, -1.81415752e-01,\n",
       "       -1.67089962e-01,  3.46512064e-02,  8.60485776e-02, -1.59213838e-01,\n",
       "        1.12504498e-02,  1.26418336e-01,  1.17638076e-02,  1.34749771e-01,\n",
       "       -4.00688908e-01,  1.99487429e-01, -9.08471067e-01, -1.48091230e-01,\n",
       "       -8.31316751e-01, -2.15242485e-01,  1.25486107e-01, -4.15389946e-02,\n",
       "       -1.55982134e-01,  5.55605262e-02,  2.76525509e-01,  2.13887482e-01,\n",
       "        1.04278208e+00,  6.53517403e-02, -5.16162489e-01,  4.63837262e-01,\n",
       "       -6.91094506e-02, -1.54533734e-01,  2.93553371e-01, -2.87354499e-01,\n",
       "       -5.72987889e-02, -4.55032256e-02, -7.98908215e-03,  1.92621491e-01,\n",
       "       -1.18676014e-01,  3.73708601e-01,  6.96501585e-02,  2.40991892e-01,\n",
       "        1.11350090e-02, -3.92451434e-01,  2.14183964e-02,  1.14041004e-02,\n",
       "        4.14176258e-01,  1.61254709e-01,  3.52311727e-01, -2.28196966e-01,\n",
       "        1.02156562e-01, -2.42821862e-02,  3.94212481e-02,  2.82159141e-02,\n",
       "       -2.01304718e-01,  7.27950215e-02,  6.80772119e-01, -5.57531309e-02,\n",
       "        3.73769163e-01, -8.62544712e-03,  8.35097874e-01,  1.51732502e-02,\n",
       "       -1.44863742e-01, -2.80572394e-01,  3.31917331e-01, -1.12249003e-01,\n",
       "       -1.80924504e-01, -1.30045955e-03,  2.71922884e-01,  3.12423113e-01,\n",
       "       -9.97592629e-02, -1.14911969e-02, -5.17914475e-03, -9.69506234e-01,\n",
       "        1.30741345e-01,  9.34573722e-02,  7.42134295e-01,  3.56299991e-01,\n",
       "       -2.35931972e-01,  8.05248376e-02,  9.37849094e-02,  2.68744982e-01,\n",
       "       -9.34634325e-02,  6.68284251e-02,  2.37097179e-02,  6.11443737e-02,\n",
       "        1.74034610e-02, -2.71781798e-01, -3.14864835e-01,  1.94241973e-01,\n",
       "       -2.23699765e-02,  8.62411786e-01,  7.35404972e-02, -4.17245909e-03,\n",
       "        5.20626916e-03, -2.29083213e-01, -4.36048192e-01,  1.76836013e-01,\n",
       "        1.72540575e-01,  1.21012724e-01, -5.98558578e-02,  2.14690813e-01,\n",
       "       -4.82443090e-02,  1.34042823e-01, -6.53056018e-02,  1.45033864e-01,\n",
       "       -5.07603287e-04,  1.30634086e-01,  9.71889411e-02,  9.49097326e-02,\n",
       "       -1.42481343e-01,  4.92847721e-01, -9.97786069e-02,  1.63565863e-01,\n",
       "        1.05875484e-01,  3.68380810e-01,  2.18748625e-01, -1.61447949e-01,\n",
       "       -1.00706063e-01,  4.61105565e-02,  4.47526731e-04, -6.31106136e-02,\n",
       "       -5.44867925e-02, -2.45957689e-01, -4.87620645e-01,  2.91431122e-01,\n",
       "        1.37838696e-01,  1.50007837e-01,  2.17302957e-01, -4.33628021e-01,\n",
       "        8.58833946e-02,  1.02328669e-01, -3.43123470e-01,  1.44696500e-01,\n",
       "        2.87299410e-01, -6.75100595e-01, -1.02204488e-01, -1.70754590e-01,\n",
       "        6.67053446e-02,  1.61545278e-01, -6.33523722e-01, -6.72362164e-01,\n",
       "        2.32433015e-01,  2.36266422e-02,  7.21494218e-02, -3.60464330e-01,\n",
       "       -4.26105503e-01, -1.36340252e-01, -4.76212592e-01,  2.44140002e-01,\n",
       "       -4.06820099e-01, -2.83597510e-01,  7.86780827e-01, -8.79892094e-01,\n",
       "       -3.22076783e-01, -5.44649719e-02, -4.43473445e-01, -1.73012375e-01,\n",
       "        3.14231783e-01, -1.15672185e-01, -8.64281445e-02, -2.22989090e-01,\n",
       "       -1.11544761e+00,  2.52028295e-01, -4.72550064e-02, -2.51596789e-01,\n",
       "       -1.84771343e-01,  1.32751235e-01,  1.48052263e-01,  2.05785836e-01,\n",
       "       -1.08442293e-01, -5.39962203e-02,  1.38059138e-01, -2.40583600e-02,\n",
       "       -5.46138608e-02, -2.48043706e-02, -1.10906315e-01, -3.63847635e-02,\n",
       "       -8.16497733e-02,  2.43541328e-02, -1.45665187e-01,  3.10592332e-01,\n",
       "       -9.77452037e-02, -1.00450052e-01, -2.27606054e-02,  8.18800765e-01,\n",
       "        1.98806714e-01,  2.22769451e-01,  5.86741186e-01,  3.71793123e-01,\n",
       "        2.57791939e-02, -1.21886376e-01,  3.44360035e-01, -8.51257832e-01,\n",
       "       -1.16422572e-01,  4.51915868e-01,  3.37193520e-02,  2.33468294e-02,\n",
       "        1.09742011e-01,  3.74109117e-01,  2.96193152e-01, -1.42994255e-01,\n",
       "        1.01407650e-01,  1.71361996e-01,  1.60295848e-01,  9.00974015e-03,\n",
       "       -1.88954768e-01,  2.14703445e-02, -8.25337433e-02, -7.54671282e-02,\n",
       "        3.26698772e-01, -8.19879872e-02, -1.74630419e-01,  2.31191149e-02,\n",
       "       -2.97778953e-01, -1.75082769e-01, -9.28738104e-02,  7.10425595e-03,\n",
       "        6.48041681e-01, -6.36227721e-02,  1.76704523e-01, -1.78930909e-01,\n",
       "       -1.91007730e-01, -1.94864492e-01, -4.19369945e-01, -6.05953158e-02,\n",
       "        3.58339201e-02, -1.38449625e-01,  1.96272307e-01, -1.69827166e-01,\n",
       "       -3.34155247e-01, -7.04542327e-01, -1.68612818e-01,  3.00182568e-03,\n",
       "        3.00971020e-01, -4.92662107e-02, -2.62201910e-01, -5.71881178e-01,\n",
       "        3.74535954e-01,  1.55618929e+00,  1.80036214e-01, -4.98929481e-02,\n",
       "        4.74437046e-02,  1.42158880e-01,  2.43668320e-01,  8.32088924e-03,\n",
       "        4.00301815e-01, -1.79793006e-01,  9.35874162e-02, -2.64908395e-01,\n",
       "        1.26521221e-01,  2.02004831e-01, -8.23835364e-01, -1.28613898e-01,\n",
       "        3.43101960e-01,  1.20120520e+00, -7.29391753e-01,  1.26285203e-01,\n",
       "        3.38558014e-01, -3.66380631e-01,  1.71078608e-01,  2.36569463e-01,\n",
       "        4.67413353e-01,  2.11466098e-01,  6.91630043e-01, -8.92041864e-02,\n",
       "        4.88824072e-02, -9.77145403e-02,  5.50849415e-02,  3.28144337e-01,\n",
       "        4.18609979e-02, -2.79955957e-01,  1.05437540e-01, -7.35392614e-01,\n",
       "        5.90457933e-01,  1.70727442e-01, -9.62954862e-02,  3.13174910e-01,\n",
       "        2.25163043e-02, -7.25174448e-02, -2.37346308e-01,  3.58689373e-01,\n",
       "        1.17840065e-01,  8.40441474e-01,  2.44404211e-01, -4.44404898e-01,\n",
       "        3.21573400e-02,  2.37248680e-01, -1.59347639e-01, -1.29017120e-01,\n",
       "        1.01613600e-01,  2.89811308e-02,  2.42769283e-01, -1.13255178e-01,\n",
       "        1.10553437e-01,  2.73079241e-01, -2.45761530e-01, -1.10643828e-01,\n",
       "        1.68647246e-01, -1.50855700e+00,  4.34336075e-02, -2.09475662e-01,\n",
       "        1.22329049e-01,  3.18892588e-02, -3.55730111e-01,  3.74937836e-01,\n",
       "       -1.44520419e-01, -6.89569580e-02, -4.97478266e-01, -1.59143798e-02,\n",
       "        3.26118651e-02,  3.32874643e-01,  5.01530370e-01,  1.29969101e-01,\n",
       "        5.67169198e-02, -4.01483750e-01,  7.31322568e-01,  3.43201983e-01,\n",
       "       -6.33864344e-02, -9.78676377e-02,  1.88327929e-01,  1.03177255e-01,\n",
       "        4.93491088e-01,  8.55979242e-01,  1.06259631e-01, -4.97549877e-03,\n",
       "        5.58849938e-02, -6.12890660e-01,  1.99633288e-01, -1.16501464e-01,\n",
       "        4.02969550e-03,  3.25698361e-01, -1.63810235e-01,  2.01224799e-01,\n",
       "       -5.68909726e-02, -4.14416038e-01,  7.25076137e-01,  4.32170766e-02,\n",
       "       -3.61504855e-02,  3.10553994e-01,  1.16350884e-01,  4.13450577e-01,\n",
       "       -3.21185498e-01,  5.50898553e-03, -1.20838760e+00,  9.75147566e-02,\n",
       "        1.07612477e-01,  1.87603464e-02, -1.71847291e-01, -5.28344149e-01,\n",
       "        2.93968192e-01, -2.24159669e-01, -6.90731250e-01, -3.17270723e-01,\n",
       "        3.82996965e-01, -4.05932228e-02, -2.60696284e-01,  4.20721267e-01,\n",
       "        2.15352942e-01,  2.89054255e-01,  9.03546884e-02, -7.23063123e-01,\n",
       "        4.81829577e-01,  1.02307644e-01,  5.41231603e-01, -4.53710461e-01,\n",
       "       -2.42057017e-01,  6.69436770e-01,  5.83086508e-02,  1.72410468e-01,\n",
       "        3.83266850e-02,  2.02808949e-01, -8.91277973e-02, -2.00888228e-02,\n",
       "        1.21362614e-01,  2.11582730e-01, -4.05703532e-01, -2.33513763e-01,\n",
       "       -1.15694394e-01,  3.93595823e-01,  1.06862184e-01, -1.13276056e+00,\n",
       "        3.72796381e-01,  1.52636722e-01,  4.73933470e-02,  2.79917450e-01,\n",
       "       -3.04990834e-02,  9.42949098e-01, -9.59547834e-02,  8.56460295e-02,\n",
       "        2.31210313e-01, -2.52758446e-01,  1.52193757e-01, -2.00196221e-01,\n",
       "       -4.10615111e-01,  2.17590241e-01,  5.46187714e-02, -4.31738975e-01,\n",
       "       -1.49646017e-01,  3.09151737e-04,  2.28495869e-03,  4.19280241e-01,\n",
       "       -9.70125109e-02,  2.98412924e-01,  1.89733063e-02, -3.97115631e-02,\n",
       "        1.53482422e-01, -2.78723056e-01, -1.91443512e+00, -5.36303650e-01,\n",
       "       -5.33723826e-01, -3.85743645e-01,  4.14257186e-01,  5.12886548e-01,\n",
       "        9.29936810e-02, -1.53371752e-01, -1.23062609e-01,  3.41671862e-01,\n",
       "        9.27103335e-02, -9.52844049e-02,  4.13865595e-01, -1.78237332e-01,\n",
       "        3.09976310e-01,  2.29862757e-01, -1.81697690e-01,  4.06888203e-03,\n",
       "       -1.51908343e-01, -3.12145336e-01, -7.46481409e-02, -1.62464652e-01,\n",
       "        5.89811034e-02, -2.97127338e-01,  1.37620913e-01,  4.28575024e-02,\n",
       "       -1.50155451e-01,  7.71601123e-02,  2.58970051e-01, -7.25959857e-02,\n",
       "        1.31399431e-01,  2.76332680e-01, -7.84802823e-01, -1.25892579e-01,\n",
       "        4.01772735e-02,  1.20474736e+00,  3.11720193e-02, -1.00216149e-01,\n",
       "       -3.68756467e-01, -3.27921246e-01, -2.77356074e-01, -4.30179574e-01,\n",
       "        1.73791353e-01,  2.07246595e-03,  2.47599391e-01, -2.05969530e-02,\n",
       "        3.10116202e-01,  1.48886531e-01, -5.37329598e-02, -5.40894720e-02,\n",
       "        6.52149322e-02, -1.43115602e+00,  1.04415335e-01, -7.35291639e-02,\n",
       "        3.04787194e-01,  2.30693408e-01, -2.88257445e-01, -4.38186077e-01,\n",
       "       -2.01140663e-01,  2.37946281e-01,  4.69458881e-02,  7.14726558e-02,\n",
       "        1.21481845e-01,  3.27384000e-01,  1.57512041e-01, -1.60906999e-01,\n",
       "        1.98838941e-01, -3.73711775e-01, -3.59408797e-01,  1.76462699e-01,\n",
       "        1.23905798e-01,  2.24049386e-01,  1.62599956e-02, -2.00462023e-01,\n",
       "        5.91826745e-01,  3.50250163e-02,  2.58084985e-01,  1.55638682e-01,\n",
       "       -1.05597225e-01,  2.24720040e-01, -7.20009863e-02, -2.67687506e-01,\n",
       "       -3.03222134e-01, -2.34260379e-01, -1.20430746e-01, -1.40806144e+00,\n",
       "       -8.00542295e-02,  1.40918074e-01,  1.07101306e+00,  1.29049152e-01,\n",
       "       -1.66270634e-01, -2.62145553e-01, -2.62481784e-03,  6.28111942e-01,\n",
       "       -1.98921793e-01, -1.87858555e-01,  4.67926816e-01, -2.54624699e-01,\n",
       "        1.07584799e-01,  4.15257810e-01, -9.56468206e-02,  5.06626212e-02,\n",
       "       -4.48889471e-01, -1.81095363e-01, -2.24636400e-01,  1.12243444e-01,\n",
       "        1.45419585e-01, -3.21252586e-01,  2.48909960e-02, -4.63529685e-02,\n",
       "       -5.95598532e-02, -1.17695467e-01,  9.62535502e-02, -4.89256181e-01,\n",
       "        7.75117659e-01, -1.37993828e-01,  3.43886098e-01, -4.84342828e-02,\n",
       "        3.01400824e-02, -9.93962785e-02, -7.50466151e-01, -1.32869506e-01,\n",
       "        4.61253602e-01,  2.47338579e-01, -4.49821300e-01, -3.00142898e-01,\n",
       "        2.99383484e-01,  5.23076750e-02, -1.62485624e-01,  9.28321001e-01,\n",
       "       -3.71121156e-01,  1.42442452e-01,  5.17098572e-01, -5.08927908e-01,\n",
       "       -1.25882262e+00, -2.62847523e-03,  5.10321628e-02,  1.10153598e-01])"
      ]
     },
     "execution_count": 12,
     "metadata": {},
     "output_type": "execute_result"
    }
   ],
   "source": [
    "lrgrid.best_estimator_.coef_[0]"
   ]
  },
  {
   "cell_type": "code",
   "execution_count": 13,
   "metadata": {},
   "outputs": [
    {
     "name": "stderr",
     "output_type": "stream",
     "text": [
      "No handles with labels found to put in legend.\n"
     ]
    },
    {
     "data": {
      "image/png": "[encoded data removed]",
      "text/plain": [
       "<Figure size 432x288 with 1 Axes>"
      ]
     },
     "metadata": {},
     "output_type": "display_data"
    }
   ],
   "source": [
    "#find most important features\n",
    "feature_importances_ls = pd.DataFrame(lrgrid.best_estimator_.coef_[0],\n",
    "                                   index = Xtrain.columns,\n",
    "                                    columns=['importance']).sort_values('importance',ascending=False)\n",
    "ls_feature_imp = pd.Series(lrgrid.best_estimator_.coef_[0],Xtrain.columns).sort_values(ascending=False)\n",
    "ls_feature_imp\n",
    "#plot top 10 most important features\n",
    "sns.barplot(x=ls_feature_imp[0:10], y=ls_feature_imp.index[0:10])\n",
    "# Add labels to your graph\n",
    "plt.xlabel('Feature Importance Score')\n",
    "plt.ylabel('Feature')\n",
    "plt.title(\"Top Ten Most Important Features\")\n",
    "plt.legend()\n",
    "plt.show()"
   ]
  },
  {
   "cell_type": "code",
   "execution_count": 14,
   "metadata": {
    "scrolled": true
   },
   "outputs": [
    {
     "name": "stdout",
     "output_type": "stream",
     "text": [
      "Processing Fold # 1\n",
      "  - Train partition shape:  (18749, 1000)\n",
      "  - Test partition shape:  (6250, 1000)\n",
      "  - Training score =  0.8171102458797802\n",
      "  - Testing score =  0.80464\n",
      "Processing Fold # 2\n",
      "  - Train partition shape:  (18749, 1000)\n",
      "  - Test partition shape:  (6250, 1000)\n",
      "  - Training score =  0.8212704677582804\n",
      "  - Testing score =  0.81952\n",
      "Processing Fold # 3\n",
      "  - Train partition shape:  (18749, 1000)\n",
      "  - Test partition shape:  (6250, 1000)\n",
      "  - Training score =  0.8138567390260814\n",
      "  - Testing score =  0.8024\n",
      "Processing Fold # 4\n",
      "  - Train partition shape:  (18750, 1000)\n",
      "  - Test partition shape:  (6249, 1000)\n",
      "  - Training score =  0.8232533333333333\n",
      "  - Testing score =  0.8278124499919988\n"
     ]
    }
   ],
   "source": [
    "# K-fold CV for Naive Bayes\n",
    "scores = []\n",
    "NB = BernoulliNB()\n",
    "cv = KFold(n_splits=4, random_state=42, shuffle=False)\n",
    "i = 1\n",
    "for train_index, test_index in cv.split(X_train):\n",
    "    X_train_fold, X_test_fold, y_train_fold, y_test_fold = X_train[train_index], X_train[test_index], y_train[train_index], y_train[test_index]\n",
    "    NB.fit(X_train_fold, y_train_fold)\n",
    "    scores.append(NB.score(X_test_fold, y_test_fold))\n",
    "    print('Processing Fold #', i)\n",
    "    print(\"  - Train partition shape: \", X_train_fold.shape)\n",
    "    print(\"  - Test partition shape: \", X_test_fold.shape)\n",
    "    print(\"  - Training score = \", NB.score(X_train_fold, y_train_fold))\n",
    "    print(\"  - Testing score = \", NB.score(X_test_fold, y_test_fold))\n",
    "    \n",
    "    i += 1"
   ]
  },
  {
   "cell_type": "code",
   "execution_count": 15,
   "metadata": {},
   "outputs": [
    {
     "name": "stdout",
     "output_type": "stream",
     "text": [
      "0.8135931124979998\n"
     ]
    }
   ],
   "source": [
    "# Print average testing score over all CV folds\n",
    "print(np.mean(scores))"
   ]
  },
  {
   "cell_type": "code",
   "execution_count": 16,
   "metadata": {
    "scrolled": true
   },
   "outputs": [
    {
     "data": {
      "image/png": "[encoded data removed]",
      "text/plain": [
       "<Figure size 432x288 with 1 Axes>"
      ]
     },
     "metadata": {},
     "output_type": "display_data"
    }
   ],
   "source": [
    "N = 4\n",
    "train_scores = (0.8171102458797802,0.8212704677582804,0.8138567390260814,0.8232533333333333)\n",
    "test_scores = (0.80464,0.82688,0.8024,0.8278124499919988)\n",
    "\n",
    "ind = np.arange(N) \n",
    "width = 0.35       \n",
    "plt.bar(ind, train_scores, width, label='Train')\n",
    "plt.bar(ind + width, test_scores, width,\n",
    "    label='Test')\n",
    "\n",
    "plt.xlabel('Fold')\n",
    "plt.ylabel('Scores')\n",
    "plt.title('Scores by fold')\n",
    "\n",
    "plt.xticks(ind + width / 2, ('1', '2', '3', '4'))\n",
    "plt.legend(loc=4)\n",
    "plt.show()"
   ]
  },
  {
   "cell_type": "code",
   "execution_count": 17,
   "metadata": {
    "scrolled": true
   },
   "outputs": [
    {
     "data": {
      "text/plain": [
       "{'alpha': 1.0, 'binarize': 0.0, 'class_prior': None, 'fit_prior': True}"
      ]
     },
     "execution_count": 17,
     "metadata": {},
     "output_type": "execute_result"
    }
   ],
   "source": [
    "NB.get_params()"
   ]
  },
  {
   "cell_type": "code",
   "execution_count": 18,
   "metadata": {},
   "outputs": [
    {
     "name": "stdout",
     "output_type": "stream",
     "text": [
      "Fitting 4 folds for each of 5 candidates, totalling 20 fits\n"
     ]
    },
    {
     "name": "stderr",
     "output_type": "stream",
     "text": [
      "[Parallel(n_jobs=-1)]: Using backend LokyBackend with 16 concurrent workers.\n",
      "[Parallel(n_jobs=-1)]: Done   4 out of  20 | elapsed:    1.4s remaining:    6.1s\n",
      "[Parallel(n_jobs=-1)]: Done   9 out of  20 | elapsed:    1.5s remaining:    1.8s\n",
      "[Parallel(n_jobs=-1)]: Done  14 out of  20 | elapsed:    1.5s remaining:    0.6s\n",
      "[Parallel(n_jobs=-1)]: Done  20 out of  20 | elapsed:    2.1s finished\n"
     ]
    },
    {
     "name": "stdout",
     "output_type": "stream",
     "text": [
      "Train Accuracy : 0.818\n",
      "Test Accuracy : 0.815\n",
      "Best Accuracy Through Grid Search : 0.813\n",
      "Best Parameters :  {'alpha': 0.01}\n"
     ]
    }
   ],
   "source": [
    "#find best alpha (smoothing) parameter\n",
    "params = {'alpha': [0.01, 0.1, 0.5, 1.0, 10.0],\n",
    "         }\n",
    "\n",
    "bernoulli_nb_grid = GridSearchCV(BernoulliNB(), param_grid=params, n_jobs=-1, cv=4, verbose=5)\n",
    "bernoulli_nb_grid.fit(X_train,y_train)\n",
    "\n",
    "print('Train Accuracy : %.3f'%bernoulli_nb_grid.best_estimator_.score(X_train, y_train))\n",
    "print('Test Accuracy : %.3f'%bernoulli_nb_grid.best_estimator_.score(X_test, y_test))\n",
    "print('Best Accuracy Through Grid Search : %.3f'%bernoulli_nb_grid.best_score_)\n",
    "print('Best Parameters : ',bernoulli_nb_grid.best_params_)"
   ]
  },
  {
   "cell_type": "code",
   "execution_count": 19,
   "metadata": {},
   "outputs": [
    {
     "name": "stdout",
     "output_type": "stream",
     "text": [
      "Processing Fold # 1\n",
      "  - Train partition shape:  (18749, 1000)\n",
      "  - Test partition shape:  (6250, 1000)\n",
      "  - Training score =  1.0\n",
      "  - Testing score =  0.81584\n",
      "Processing Fold # 2\n",
      "  - Train partition shape:  (18749, 1000)\n",
      "  - Test partition shape:  (6250, 1000)\n",
      "  - Training score =  1.0\n",
      "  - Testing score =  0.82224\n",
      "Processing Fold # 3\n",
      "  - Train partition shape:  (18749, 1000)\n",
      "  - Test partition shape:  (6250, 1000)\n",
      "  - Training score =  1.0\n",
      "  - Testing score =  0.81504\n",
      "Processing Fold # 4\n",
      "  - Train partition shape:  (18750, 1000)\n",
      "  - Test partition shape:  (6249, 1000)\n",
      "  - Training score =  1.0\n",
      "  - Testing score =  0.8222115538486158\n"
     ]
    }
   ],
   "source": [
    "# K-fold CV for random forest\n",
    "scores = []\n",
    "forest = RandomForestClassifier (n_estimators=100, random_state=0)\n",
    "cv = KFold(n_splits=4, random_state=42, shuffle=False)\n",
    "i = 1\n",
    "for train_index, test_index in cv.split(X_train):\n",
    "    X_train_fold, X_test_fold, y_train_fold, y_test_fold = X_train[train_index], X_train[test_index], y_train[train_index], y_train[test_index]\n",
    "    forest.fit(X_train_fold, y_train_fold)\n",
    "    scores.append(forest.score(X_test_fold, y_test_fold))\n",
    "    print('Processing Fold #', i)\n",
    "    print(\"  - Train partition shape: \", X_train_fold.shape)\n",
    "    print(\"  - Test partition shape: \", X_test_fold.shape)\n",
    "    print(\"  - Training score = \", forest.score(X_train_fold, y_train_fold))\n",
    "    print(\"  - Testing score = \", forest.score(X_test_fold, y_test_fold))\n",
    "    \n",
    "    i += 1"
   ]
  },
  {
   "cell_type": "code",
   "execution_count": 20,
   "metadata": {},
   "outputs": [
    {
     "name": "stdout",
     "output_type": "stream",
     "text": [
      "0.818832888462154\n"
     ]
    }
   ],
   "source": [
    "# Print average testing score over all CV folds\n",
    "print(np.mean(scores))"
   ]
  },
  {
   "cell_type": "code",
   "execution_count": 21,
   "metadata": {},
   "outputs": [
    {
     "data": {
      "image/png": "[encoded data removed]",
      "text/plain": [
       "<Figure size 432x288 with 1 Axes>"
      ]
     },
     "metadata": {},
     "output_type": "display_data"
    }
   ],
   "source": [
    "N = 4\n",
    "train_scores = (1,1,1,1)\n",
    "test_scores = (0.81584,0.82224,0.81504,0.8222115538486158)\n",
    "\n",
    "ind = np.arange(N) \n",
    "width = 0.35       \n",
    "plt.bar(ind, train_scores, width, label='Train')\n",
    "plt.bar(ind + width, test_scores, width,\n",
    "    label='Test')\n",
    "\n",
    "plt.xlabel('Fold')\n",
    "plt.ylabel('Scores')\n",
    "plt.title('Scores by fold')\n",
    "\n",
    "plt.xticks(ind + width / 2, ('1', '2', '3', '4'))\n",
    "plt.legend(loc=4)\n",
    "plt.show()"
   ]
  },
  {
   "cell_type": "code",
   "execution_count": 22,
   "metadata": {
    "scrolled": false
   },
   "outputs": [
    {
     "data": {
      "text/plain": [
       "{'bootstrap': True,\n",
       " 'ccp_alpha': 0.0,\n",
       " 'class_weight': None,\n",
       " 'criterion': 'gini',\n",
       " 'max_depth': None,\n",
       " 'max_features': 'auto',\n",
       " 'max_leaf_nodes': None,\n",
       " 'max_samples': None,\n",
       " 'min_impurity_decrease': 0.0,\n",
       " 'min_impurity_split': None,\n",
       " 'min_samples_leaf': 1,\n",
       " 'min_samples_split': 2,\n",
       " 'min_weight_fraction_leaf': 0.0,\n",
       " 'n_estimators': 100,\n",
       " 'n_jobs': None,\n",
       " 'oob_score': False,\n",
       " 'random_state': 0,\n",
       " 'verbose': 0,\n",
       " 'warm_start': False}"
      ]
     },
     "execution_count": 22,
     "metadata": {},
     "output_type": "execute_result"
    }
   ],
   "source": [
    "forest.get_params()"
   ]
  },
  {
   "cell_type": "code",
   "execution_count": 23,
   "metadata": {},
   "outputs": [
    {
     "name": "stdout",
     "output_type": "stream",
     "text": [
      "Fitting 4 folds for each of 24 candidates, totalling 96 fits\n"
     ]
    },
    {
     "name": "stderr",
     "output_type": "stream",
     "text": [
      "[Parallel(n_jobs=-1)]: Using backend LokyBackend with 16 concurrent workers.\n",
      "[Parallel(n_jobs=-1)]: Done  40 tasks      | elapsed:   33.5s\n",
      "[Parallel(n_jobs=-1)]: Done  85 out of  96 | elapsed:  1.9min remaining:   14.3s\n",
      "[Parallel(n_jobs=-1)]: Done  96 out of  96 | elapsed:  2.1min finished\n"
     ]
    },
    {
     "name": "stdout",
     "output_type": "stream",
     "text": [
      "Train Accuracy : 1.000\n",
      "Test Accuracy : 0.832\n",
      "Best Accuracy Through Grid Search : 0.828\n",
      "Best Parameters :  {'max_depth': 100, 'n_estimators': 200}\n"
     ]
    }
   ],
   "source": [
    "#find best number of trees and depth\n",
    "params = {'n_estimators': [10,50,100,200],\n",
    "          'max_depth': [5,10,20,50,75,100]\n",
    "         }\n",
    "\n",
    "forest_grid = GridSearchCV(forest, param_grid=params, n_jobs=-1, cv=4, verbose=5)\n",
    "forest_grid.fit(X_train,y_train)\n",
    "\n",
    "print('Train Accuracy : %.3f'%forest_grid.best_estimator_.score(X_train, y_train))\n",
    "print('Test Accuracy : %.3f'%forest_grid.best_estimator_.score(X_test, y_test))\n",
    "print('Best Accuracy Through Grid Search : %.3f'%forest_grid.best_score_)\n",
    "print('Best Parameters : ',forest_grid.best_params_)"
   ]
  },
  {
   "cell_type": "code",
   "execution_count": 24,
   "metadata": {},
   "outputs": [
    {
     "data": {
      "text/plain": [
       "(0.0, 0.015)"
      ]
     },
     "execution_count": 24,
     "metadata": {},
     "output_type": "execute_result"
    },
    {
     "data": {
      "image/png": "[encoded data removed]",
      "text/plain": [
       "<Figure size 432x288 with 1 Axes>"
      ]
     },
     "metadata": {},
     "output_type": "display_data"
    }
   ],
   "source": [
    "#find which features are most important\n",
    "importances = forest.feature_importances_\n",
    "indices = np.argsort(importances)\n",
    "plt.figure(1)\n",
    "plt.title('Feature Importances')\n",
    "plt.barh(range(len(indices)), importances, color='b', align='center')\n",
    "plt.xlabel('Relative Importance')\n",
    "plt.ylabel('Feature')\n",
    "plt.xlim([0, 0.015])"
   ]
  },
  {
   "cell_type": "code",
   "execution_count": 25,
   "metadata": {},
   "outputs": [
    {
     "data": {
      "text/plain": [
       "0.0.37     0.025842\n",
       "0.0.178    0.023153\n",
       "1.0.42     0.015388\n",
       "0.0.354    0.014474\n",
       "0.0.295    0.012931\n",
       "             ...   \n",
       "0.0.389    0.000263\n",
       "1.0.1      0.000012\n",
       "0.0.1      0.000000\n",
       "1.0        0.000000\n",
       "0.0        0.000000\n",
       "Length: 1000, dtype: float64"
      ]
     },
     "execution_count": 25,
     "metadata": {},
     "output_type": "execute_result"
    }
   ],
   "source": [
    "feature_imp = pd.Series(forest_grid.best_estimator_.feature_importances_,Xtrain.columns).sort_values(ascending=False)\n",
    "feature_imp"
   ]
  },
  {
   "cell_type": "code",
   "execution_count": 26,
   "metadata": {},
   "outputs": [
    {
     "name": "stdout",
     "output_type": "stream",
     "text": [
      "Processing Fold # 1\n",
      "  - Train partition shape:  (18749, 1000)\n",
      "  - Test partition shape:  (6250, 1000)\n",
      "  - Training score =  0.8253240172809216\n",
      "  - Testing score =  0.8088\n",
      "Processing Fold # 2\n",
      "  - Train partition shape:  (18749, 1000)\n",
      "  - Test partition shape:  (6250, 1000)\n",
      "  - Training score =  0.8303376180062937\n",
      "  - Testing score =  0.81088\n",
      "Processing Fold # 3\n",
      "  - Train partition shape:  (18749, 1000)\n",
      "  - Test partition shape:  (6250, 1000)\n",
      "  - Training score =  0.8282041708891141\n",
      "  - Testing score =  0.80768\n",
      "Processing Fold # 4\n",
      "  - Train partition shape:  (18750, 1000)\n",
      "  - Test partition shape:  (6249, 1000)\n",
      "  - Training score =  0.82768\n",
      "  - Testing score =  0.814210273643783\n"
     ]
    }
   ],
   "source": [
    "# K-fold CV for Gradient Boosted Trees\n",
    "scores = []\n",
    "gbt = GradientBoostingClassifier(random_state=0)\n",
    "cv = KFold(n_splits=4, random_state=42, shuffle=False)\n",
    "i = 1\n",
    "for train_index, test_index in cv.split(X_train):\n",
    "    X_train_fold, X_test_fold, y_train_fold, y_test_fold = X_train[train_index], X_train[test_index], y_train[train_index], y_train[test_index]\n",
    "    gbt.fit(X_train_fold, y_train_fold)\n",
    "    scores.append(gbt.score(X_test_fold, y_test_fold))\n",
    "    print('Processing Fold #', i)\n",
    "    print(\"  - Train partition shape: \", X_train_fold.shape)\n",
    "    print(\"  - Test partition shape: \", X_test_fold.shape)\n",
    "    print(\"  - Training score = \", gbt.score(X_train_fold, y_train_fold))\n",
    "    print(\"  - Testing score = \", gbt.score(X_test_fold, y_test_fold))\n",
    "    \n",
    "    i += 1"
   ]
  },
  {
   "cell_type": "code",
   "execution_count": 27,
   "metadata": {},
   "outputs": [
    {
     "name": "stdout",
     "output_type": "stream",
     "text": [
      "0.8103925684109458\n"
     ]
    }
   ],
   "source": [
    "# Print average testing score over all CV folds\n",
    "print(np.mean(scores))"
   ]
  },
  {
   "cell_type": "code",
   "execution_count": 28,
   "metadata": {},
   "outputs": [
    {
     "data": {
      "image/png": "[encoded data removed]",
      "text/plain": [
       "<Figure size 432x288 with 1 Axes>"
      ]
     },
     "metadata": {},
     "output_type": "display_data"
    }
   ],
   "source": [
    "N = 4\n",
    "train_scores = (0.8253240172809216,0.8303376180062937,0.8282041708891141,0.82768)\n",
    "test_scores = (0.8088,0.81088,0.80768,0.814210273643783)\n",
    "\n",
    "ind = np.arange(N) \n",
    "width = 0.35       \n",
    "plt.bar(ind, train_scores, width, label='Train')\n",
    "plt.bar(ind + width, test_scores, width,\n",
    "    label='Test')\n",
    "\n",
    "plt.xlabel('Fold')\n",
    "plt.ylabel('Scores')\n",
    "plt.title('Scores by fold')\n",
    "\n",
    "plt.xticks(ind + width / 2, ('1', '2', '3', '4'))\n",
    "plt.legend(loc=4)\n",
    "plt.show()"
   ]
  },
  {
   "cell_type": "code",
   "execution_count": 29,
   "metadata": {},
   "outputs": [
    {
     "data": {
      "text/plain": [
       "{'ccp_alpha': 0.0,\n",
       " 'criterion': 'friedman_mse',\n",
       " 'init': None,\n",
       " 'learning_rate': 0.1,\n",
       " 'loss': 'deviance',\n",
       " 'max_depth': 3,\n",
       " 'max_features': None,\n",
       " 'max_leaf_nodes': None,\n",
       " 'min_impurity_decrease': 0.0,\n",
       " 'min_impurity_split': None,\n",
       " 'min_samples_leaf': 1,\n",
       " 'min_samples_split': 2,\n",
       " 'min_weight_fraction_leaf': 0.0,\n",
       " 'n_estimators': 100,\n",
       " 'n_iter_no_change': None,\n",
       " 'presort': 'deprecated',\n",
       " 'random_state': 0,\n",
       " 'subsample': 1.0,\n",
       " 'tol': 0.0001,\n",
       " 'validation_fraction': 0.1,\n",
       " 'verbose': 0,\n",
       " 'warm_start': False}"
      ]
     },
     "execution_count": 29,
     "metadata": {},
     "output_type": "execute_result"
    }
   ],
   "source": [
    "gbt.get_params()"
   ]
  },
  {
   "cell_type": "code",
   "execution_count": 30,
   "metadata": {
    "scrolled": true
   },
   "outputs": [
    {
     "name": "stdout",
     "output_type": "stream",
     "text": [
      "Fitting 4 folds for each of 9 candidates, totalling 36 fits\n"
     ]
    },
    {
     "name": "stderr",
     "output_type": "stream",
     "text": [
      "[Parallel(n_jobs=-1)]: Using backend LokyBackend with 16 concurrent workers.\n",
      "[Parallel(n_jobs=-1)]: Done  13 out of  36 | elapsed:  2.4min remaining:  4.3min\n",
      "[Parallel(n_jobs=-1)]: Done  21 out of  36 | elapsed:  4.1min remaining:  2.9min\n",
      "[Parallel(n_jobs=-1)]: Done  29 out of  36 | elapsed:  4.4min remaining:  1.1min\n",
      "[Parallel(n_jobs=-1)]: Done  36 out of  36 | elapsed:  5.1min finished\n"
     ]
    },
    {
     "name": "stdout",
     "output_type": "stream",
     "text": [
      "Train Accuracy : 0.870\n",
      "Test Accuracy : 0.844\n",
      "Best Accuracy Through Grid Search : 0.838\n",
      "Best Parameters :  {'learning_rate': 0.3, 'n_estimators': 100}\n"
     ]
    }
   ],
   "source": [
    "#find best number of trees and best learning rate\n",
    "params = {'n_estimators': [10,50,100],\n",
    "          'learning_rate':[0.1, 0.2,0.3]\n",
    "         }\n",
    "\n",
    "gbt_grid = GridSearchCV(gbt, param_grid=params, n_jobs=-1, cv=4, verbose=5)\n",
    "gbt_grid.fit(X_train,y_train)\n",
    "\n",
    "print('Train Accuracy : %.3f'%gbt_grid.best_estimator_.score(X_train, y_train))\n",
    "print('Test Accuracy : %.3f'%gbt_grid.best_estimator_.score(X_test, y_test))\n",
    "print('Best Accuracy Through Grid Search : %.3f'%gbt_grid.best_score_)\n",
    "print('Best Parameters : ',gbt_grid.best_params_)"
   ]
  },
  {
   "cell_type": "code",
   "execution_count": 31,
   "metadata": {},
   "outputs": [
    {
     "data": {
      "text/plain": [
       "(0.0, 0.06)"
      ]
     },
     "execution_count": 31,
     "metadata": {},
     "output_type": "execute_result"
    },
    {
     "data": {
      "image/png": "[encoded data removed]",
      "text/plain": [
       "<Figure size 432x288 with 1 Axes>"
      ]
     },
     "metadata": {},
     "output_type": "display_data"
    }
   ],
   "source": [
    "#find which features are most important\n",
    "importances = gbt.feature_importances_\n",
    "indices = np.argsort(importances)\n",
    "plt.figure(1)\n",
    "plt.title('Feature Importances')\n",
    "plt.barh(range(len(indices)), importances, color='b', align='center')\n",
    "plt.xlabel('Relative Importance')\n",
    "plt.ylabel('Feature')\n",
    "plt.xlim([0, 0.06])"
   ]
  },
  {
   "cell_type": "code",
   "execution_count": 32,
   "metadata": {},
   "outputs": [
    {
     "data": {
      "text/plain": [
       "0.0.37     0.108954\n",
       "0.0.178    0.078462\n",
       "1.0.42     0.047410\n",
       "0.0.354    0.046359\n",
       "0.0.295    0.034434\n",
       "             ...   \n",
       "0.0.527    0.000000\n",
       "0.0.523    0.000000\n",
       "0.0.522    0.000000\n",
       "0.0.521    0.000000\n",
       "0.0        0.000000\n",
       "Length: 1000, dtype: float64"
      ]
     },
     "execution_count": 32,
     "metadata": {},
     "output_type": "execute_result"
    }
   ],
   "source": [
    "feature_imp = pd.Series(gbt_grid.best_estimator_.feature_importances_,Xtrain.columns).sort_values(ascending=False)\n",
    "feature_imp"
   ]
  },
  {
   "cell_type": "code",
   "execution_count": null,
   "metadata": {},
   "outputs": [],
   "source": []
  }
 ],
 "metadata": {
  "kernelspec": {
   "display_name": "Python 3",
   "language": "python",
   "name": "python3"
  },
  "language_info": {
   "codemirror_mode": {
    "name": "ipython",
    "version": 3
   },
   "file_extension": ".py",
   "mimetype": "text/x-python",
   "name": "python",
   "nbconvert_exporter": "python",
   "pygments_lexer": "ipython3",
   "version": "3.8.5"
  }
 },
 "nbformat": 4,
 "nbformat_minor": 4
}
